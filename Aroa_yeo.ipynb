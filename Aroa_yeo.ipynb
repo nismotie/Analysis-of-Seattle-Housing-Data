{
 "cells": [
  {
   "cell_type": "code",
   "execution_count": 1,
   "metadata": {},
   "outputs": [],
   "source": [
    "import numpy as np\n",
    "import pandas as pd\n",
    "import matplotlib.pyplot as plt\n",
    "import statsmodels.api as sm\n",
    "import datetime as dt\n",
    "import seaborn as sns\n",
    "from sklearn.linear_model import LinearRegression\n",
    "\n",
    "\n",
    "#We parse the data as datetime type to be able to manipulate dates as data and not strings\n",
    "parsed_date = ['date']\n",
    "df = pd.read_csv('kc_house_data.csv', parse_dates=parsed_date) \n",
    "\n"
   ]
  },
  {
   "cell_type": "code",
   "execution_count": 2,
   "metadata": {},
   "outputs": [
    {
     "data": {
      "text/plain": [
       "Index(['id', 'date', 'price', 'bedrooms', 'bathrooms', 'sqft_living',\n",
       "       'sqft_lot', 'floors', 'waterfront', 'view', 'condition', 'grade',\n",
       "       'sqft_above', 'sqft_basement', 'yr_built', 'yr_renovated', 'zipcode',\n",
       "       'lat', 'long', 'sqft_living15', 'sqft_lot15'],\n",
       "      dtype='object')"
      ]
     },
     "execution_count": 2,
     "metadata": {},
     "output_type": "execute_result"
    }
   ],
   "source": [
    "df.columns"
   ]
  },
  {
   "cell_type": "code",
   "execution_count": 8,
   "metadata": {},
   "outputs": [
    {
     "name": "stdout",
     "output_type": "stream",
     "text": [
      "<class 'pandas.core.frame.DataFrame'>\n",
      "RangeIndex: 21597 entries, 0 to 21596\n",
      "Data columns (total 21 columns):\n",
      "id               21597 non-null int64\n",
      "date             21597 non-null datetime64[ns]\n",
      "price            21597 non-null float64\n",
      "bedrooms         21597 non-null int64\n",
      "bathrooms        21597 non-null float64\n",
      "sqft_living      21597 non-null int64\n",
      "sqft_lot         21597 non-null int64\n",
      "floors           21597 non-null float64\n",
      "waterfront       19221 non-null float64\n",
      "view             21534 non-null float64\n",
      "condition        21597 non-null int64\n",
      "grade            21597 non-null int64\n",
      "sqft_above       21597 non-null int64\n",
      "sqft_basement    21597 non-null object\n",
      "yr_built         21597 non-null int64\n",
      "yr_renovated     17755 non-null float64\n",
      "zipcode          21597 non-null int64\n",
      "lat              21597 non-null float64\n",
      "long             21597 non-null float64\n",
      "sqft_living15    21597 non-null int64\n",
      "sqft_lot15       21597 non-null int64\n",
      "dtypes: datetime64[ns](1), float64(8), int64(11), object(1)\n",
      "memory usage: 3.5+ MB\n"
     ]
    }
   ],
   "source": [
    "#We can see below we have successfully read date as datetime\n",
    "\n",
    "df.info()"
   ]
  },
  {
   "cell_type": "code",
   "execution_count": null,
   "metadata": {},
   "outputs": [],
   "source": []
  },
  {
   "cell_type": "code",
   "execution_count": 9,
   "metadata": {},
   "outputs": [],
   "source": [
    "df.sort_values(by='date', inplace=True, ascending=False)"
   ]
  },
  {
   "cell_type": "code",
   "execution_count": 10,
   "metadata": {},
   "outputs": [
    {
     "data": {
      "text/html": [
       "<div>\n",
       "<style scoped>\n",
       "    .dataframe tbody tr th:only-of-type {\n",
       "        vertical-align: middle;\n",
       "    }\n",
       "\n",
       "    .dataframe tbody tr th {\n",
       "        vertical-align: top;\n",
       "    }\n",
       "\n",
       "    .dataframe thead th {\n",
       "        text-align: right;\n",
       "    }\n",
       "</style>\n",
       "<table border=\"1\" class=\"dataframe\">\n",
       "  <thead>\n",
       "    <tr style=\"text-align: right;\">\n",
       "      <th></th>\n",
       "      <th>id</th>\n",
       "      <th>price</th>\n",
       "      <th>bedrooms</th>\n",
       "      <th>bathrooms</th>\n",
       "      <th>sqft_living</th>\n",
       "      <th>sqft_lot</th>\n",
       "      <th>floors</th>\n",
       "      <th>waterfront</th>\n",
       "      <th>view</th>\n",
       "      <th>condition</th>\n",
       "      <th>grade</th>\n",
       "      <th>sqft_above</th>\n",
       "      <th>yr_built</th>\n",
       "      <th>yr_renovated</th>\n",
       "      <th>zipcode</th>\n",
       "      <th>lat</th>\n",
       "      <th>long</th>\n",
       "      <th>sqft_living15</th>\n",
       "      <th>sqft_lot15</th>\n",
       "    </tr>\n",
       "  </thead>\n",
       "  <tbody>\n",
       "    <tr>\n",
       "      <th>count</th>\n",
       "      <td>2.159700e+04</td>\n",
       "      <td>2.159700e+04</td>\n",
       "      <td>21597.000000</td>\n",
       "      <td>21597.000000</td>\n",
       "      <td>21597.000000</td>\n",
       "      <td>2.159700e+04</td>\n",
       "      <td>21597.000000</td>\n",
       "      <td>19221.000000</td>\n",
       "      <td>21534.000000</td>\n",
       "      <td>21597.000000</td>\n",
       "      <td>21597.000000</td>\n",
       "      <td>21597.000000</td>\n",
       "      <td>21597.000000</td>\n",
       "      <td>17755.000000</td>\n",
       "      <td>21597.000000</td>\n",
       "      <td>21597.000000</td>\n",
       "      <td>21597.000000</td>\n",
       "      <td>21597.000000</td>\n",
       "      <td>21597.000000</td>\n",
       "    </tr>\n",
       "    <tr>\n",
       "      <th>mean</th>\n",
       "      <td>4.580474e+09</td>\n",
       "      <td>5.402966e+05</td>\n",
       "      <td>3.373200</td>\n",
       "      <td>2.115826</td>\n",
       "      <td>2080.321850</td>\n",
       "      <td>1.509941e+04</td>\n",
       "      <td>1.494096</td>\n",
       "      <td>0.007596</td>\n",
       "      <td>0.233863</td>\n",
       "      <td>3.409825</td>\n",
       "      <td>7.657915</td>\n",
       "      <td>1788.596842</td>\n",
       "      <td>1970.999676</td>\n",
       "      <td>83.636778</td>\n",
       "      <td>98077.951845</td>\n",
       "      <td>47.560093</td>\n",
       "      <td>-122.213982</td>\n",
       "      <td>1986.620318</td>\n",
       "      <td>12758.283512</td>\n",
       "    </tr>\n",
       "    <tr>\n",
       "      <th>std</th>\n",
       "      <td>2.876736e+09</td>\n",
       "      <td>3.673681e+05</td>\n",
       "      <td>0.926299</td>\n",
       "      <td>0.768984</td>\n",
       "      <td>918.106125</td>\n",
       "      <td>4.141264e+04</td>\n",
       "      <td>0.539683</td>\n",
       "      <td>0.086825</td>\n",
       "      <td>0.765686</td>\n",
       "      <td>0.650546</td>\n",
       "      <td>1.173200</td>\n",
       "      <td>827.759761</td>\n",
       "      <td>29.375234</td>\n",
       "      <td>399.946414</td>\n",
       "      <td>53.513072</td>\n",
       "      <td>0.138552</td>\n",
       "      <td>0.140724</td>\n",
       "      <td>685.230472</td>\n",
       "      <td>27274.441950</td>\n",
       "    </tr>\n",
       "    <tr>\n",
       "      <th>min</th>\n",
       "      <td>1.000102e+06</td>\n",
       "      <td>7.800000e+04</td>\n",
       "      <td>1.000000</td>\n",
       "      <td>0.500000</td>\n",
       "      <td>370.000000</td>\n",
       "      <td>5.200000e+02</td>\n",
       "      <td>1.000000</td>\n",
       "      <td>0.000000</td>\n",
       "      <td>0.000000</td>\n",
       "      <td>1.000000</td>\n",
       "      <td>3.000000</td>\n",
       "      <td>370.000000</td>\n",
       "      <td>1900.000000</td>\n",
       "      <td>0.000000</td>\n",
       "      <td>98001.000000</td>\n",
       "      <td>47.155900</td>\n",
       "      <td>-122.519000</td>\n",
       "      <td>399.000000</td>\n",
       "      <td>651.000000</td>\n",
       "    </tr>\n",
       "    <tr>\n",
       "      <th>25%</th>\n",
       "      <td>2.123049e+09</td>\n",
       "      <td>3.220000e+05</td>\n",
       "      <td>3.000000</td>\n",
       "      <td>1.750000</td>\n",
       "      <td>1430.000000</td>\n",
       "      <td>5.040000e+03</td>\n",
       "      <td>1.000000</td>\n",
       "      <td>0.000000</td>\n",
       "      <td>0.000000</td>\n",
       "      <td>3.000000</td>\n",
       "      <td>7.000000</td>\n",
       "      <td>1190.000000</td>\n",
       "      <td>1951.000000</td>\n",
       "      <td>0.000000</td>\n",
       "      <td>98033.000000</td>\n",
       "      <td>47.471100</td>\n",
       "      <td>-122.328000</td>\n",
       "      <td>1490.000000</td>\n",
       "      <td>5100.000000</td>\n",
       "    </tr>\n",
       "    <tr>\n",
       "      <th>50%</th>\n",
       "      <td>3.904930e+09</td>\n",
       "      <td>4.500000e+05</td>\n",
       "      <td>3.000000</td>\n",
       "      <td>2.250000</td>\n",
       "      <td>1910.000000</td>\n",
       "      <td>7.618000e+03</td>\n",
       "      <td>1.500000</td>\n",
       "      <td>0.000000</td>\n",
       "      <td>0.000000</td>\n",
       "      <td>3.000000</td>\n",
       "      <td>7.000000</td>\n",
       "      <td>1560.000000</td>\n",
       "      <td>1975.000000</td>\n",
       "      <td>0.000000</td>\n",
       "      <td>98065.000000</td>\n",
       "      <td>47.571800</td>\n",
       "      <td>-122.231000</td>\n",
       "      <td>1840.000000</td>\n",
       "      <td>7620.000000</td>\n",
       "    </tr>\n",
       "    <tr>\n",
       "      <th>75%</th>\n",
       "      <td>7.308900e+09</td>\n",
       "      <td>6.450000e+05</td>\n",
       "      <td>4.000000</td>\n",
       "      <td>2.500000</td>\n",
       "      <td>2550.000000</td>\n",
       "      <td>1.068500e+04</td>\n",
       "      <td>2.000000</td>\n",
       "      <td>0.000000</td>\n",
       "      <td>0.000000</td>\n",
       "      <td>4.000000</td>\n",
       "      <td>8.000000</td>\n",
       "      <td>2210.000000</td>\n",
       "      <td>1997.000000</td>\n",
       "      <td>0.000000</td>\n",
       "      <td>98118.000000</td>\n",
       "      <td>47.678000</td>\n",
       "      <td>-122.125000</td>\n",
       "      <td>2360.000000</td>\n",
       "      <td>10083.000000</td>\n",
       "    </tr>\n",
       "    <tr>\n",
       "      <th>max</th>\n",
       "      <td>9.900000e+09</td>\n",
       "      <td>7.700000e+06</td>\n",
       "      <td>33.000000</td>\n",
       "      <td>8.000000</td>\n",
       "      <td>13540.000000</td>\n",
       "      <td>1.651359e+06</td>\n",
       "      <td>3.500000</td>\n",
       "      <td>1.000000</td>\n",
       "      <td>4.000000</td>\n",
       "      <td>5.000000</td>\n",
       "      <td>13.000000</td>\n",
       "      <td>9410.000000</td>\n",
       "      <td>2015.000000</td>\n",
       "      <td>2015.000000</td>\n",
       "      <td>98199.000000</td>\n",
       "      <td>47.777600</td>\n",
       "      <td>-121.315000</td>\n",
       "      <td>6210.000000</td>\n",
       "      <td>871200.000000</td>\n",
       "    </tr>\n",
       "  </tbody>\n",
       "</table>\n",
       "</div>"
      ],
      "text/plain": [
       "                 id         price      bedrooms     bathrooms   sqft_living  \\\n",
       "count  2.159700e+04  2.159700e+04  21597.000000  21597.000000  21597.000000   \n",
       "mean   4.580474e+09  5.402966e+05      3.373200      2.115826   2080.321850   \n",
       "std    2.876736e+09  3.673681e+05      0.926299      0.768984    918.106125   \n",
       "min    1.000102e+06  7.800000e+04      1.000000      0.500000    370.000000   \n",
       "25%    2.123049e+09  3.220000e+05      3.000000      1.750000   1430.000000   \n",
       "50%    3.904930e+09  4.500000e+05      3.000000      2.250000   1910.000000   \n",
       "75%    7.308900e+09  6.450000e+05      4.000000      2.500000   2550.000000   \n",
       "max    9.900000e+09  7.700000e+06     33.000000      8.000000  13540.000000   \n",
       "\n",
       "           sqft_lot        floors    waterfront          view     condition  \\\n",
       "count  2.159700e+04  21597.000000  19221.000000  21534.000000  21597.000000   \n",
       "mean   1.509941e+04      1.494096      0.007596      0.233863      3.409825   \n",
       "std    4.141264e+04      0.539683      0.086825      0.765686      0.650546   \n",
       "min    5.200000e+02      1.000000      0.000000      0.000000      1.000000   \n",
       "25%    5.040000e+03      1.000000      0.000000      0.000000      3.000000   \n",
       "50%    7.618000e+03      1.500000      0.000000      0.000000      3.000000   \n",
       "75%    1.068500e+04      2.000000      0.000000      0.000000      4.000000   \n",
       "max    1.651359e+06      3.500000      1.000000      4.000000      5.000000   \n",
       "\n",
       "              grade    sqft_above      yr_built  yr_renovated       zipcode  \\\n",
       "count  21597.000000  21597.000000  21597.000000  17755.000000  21597.000000   \n",
       "mean       7.657915   1788.596842   1970.999676     83.636778  98077.951845   \n",
       "std        1.173200    827.759761     29.375234    399.946414     53.513072   \n",
       "min        3.000000    370.000000   1900.000000      0.000000  98001.000000   \n",
       "25%        7.000000   1190.000000   1951.000000      0.000000  98033.000000   \n",
       "50%        7.000000   1560.000000   1975.000000      0.000000  98065.000000   \n",
       "75%        8.000000   2210.000000   1997.000000      0.000000  98118.000000   \n",
       "max       13.000000   9410.000000   2015.000000   2015.000000  98199.000000   \n",
       "\n",
       "                lat          long  sqft_living15     sqft_lot15  \n",
       "count  21597.000000  21597.000000   21597.000000   21597.000000  \n",
       "mean      47.560093   -122.213982    1986.620318   12758.283512  \n",
       "std        0.138552      0.140724     685.230472   27274.441950  \n",
       "min       47.155900   -122.519000     399.000000     651.000000  \n",
       "25%       47.471100   -122.328000    1490.000000    5100.000000  \n",
       "50%       47.571800   -122.231000    1840.000000    7620.000000  \n",
       "75%       47.678000   -122.125000    2360.000000   10083.000000  \n",
       "max       47.777600   -121.315000    6210.000000  871200.000000  "
      ]
     },
     "execution_count": 10,
     "metadata": {},
     "output_type": "execute_result"
    }
   ],
   "source": [
    "df.describe()"
   ]
  },
  {
   "cell_type": "code",
   "execution_count": 11,
   "metadata": {},
   "outputs": [],
   "source": [
    "# Above we can see that the max value for bedrooms is 33, which most likely it's an error, since we don't know\n",
    "# if it is a typo or bad data we decided to remove this row\n",
    "\n",
    "remove = df.loc[df['bedrooms'] == 33]\n",
    "df_clean = df.drop(remove.index, axis=0, inplace=False)"
   ]
  },
  {
   "cell_type": "code",
   "execution_count": 15,
   "metadata": {},
   "outputs": [
    {
     "data": {
      "text/plain": [
       "0.0      12826\n",
       "?          454\n",
       "600.0      217\n",
       "500.0      209\n",
       "700.0      208\n",
       "Name: sqft_basement, dtype: int64"
      ]
     },
     "execution_count": 15,
     "metadata": {},
     "output_type": "execute_result"
    }
   ],
   "source": [
    "df_clean['sqft_basement'].value_counts().head()"
   ]
  },
  {
   "cell_type": "code",
   "execution_count": 12,
   "metadata": {
    "scrolled": true
   },
   "outputs": [],
   "source": []
  },
  {
   "cell_type": "code",
   "execution_count": 16,
   "metadata": {},
   "outputs": [],
   "source": [
    "# Basements series have 454 rows of unknown values, since we don't know if there is a basement or not in these properties\n",
    "# we will replace '?' for zero values\n",
    "\n",
    "df_clean.loc[df_clean['sqft_basement'] == '?']\n",
    "\n",
    "df_clean.replace({'sqft_basement': '?'}, {'sqft_basement': 0}, inplace=True)"
   ]
  },
  {
   "cell_type": "code",
   "execution_count": 17,
   "metadata": {},
   "outputs": [
    {
     "data": {
      "text/html": [
       "<div>\n",
       "<style scoped>\n",
       "    .dataframe tbody tr th:only-of-type {\n",
       "        vertical-align: middle;\n",
       "    }\n",
       "\n",
       "    .dataframe tbody tr th {\n",
       "        vertical-align: top;\n",
       "    }\n",
       "\n",
       "    .dataframe thead th {\n",
       "        text-align: right;\n",
       "    }\n",
       "</style>\n",
       "<table border=\"1\" class=\"dataframe\">\n",
       "  <thead>\n",
       "    <tr style=\"text-align: right;\">\n",
       "      <th></th>\n",
       "      <th>id</th>\n",
       "      <th>date</th>\n",
       "      <th>price</th>\n",
       "      <th>bedrooms</th>\n",
       "      <th>bathrooms</th>\n",
       "      <th>sqft_living</th>\n",
       "      <th>sqft_lot</th>\n",
       "      <th>floors</th>\n",
       "      <th>waterfront</th>\n",
       "      <th>view</th>\n",
       "      <th>...</th>\n",
       "      <th>sqft_above</th>\n",
       "      <th>sqft_basement</th>\n",
       "      <th>yr_built</th>\n",
       "      <th>yr_renovated</th>\n",
       "      <th>zipcode</th>\n",
       "      <th>lat</th>\n",
       "      <th>long</th>\n",
       "      <th>sqft_living15</th>\n",
       "      <th>sqft_lot15</th>\n",
       "      <th>sqf_diff</th>\n",
       "    </tr>\n",
       "  </thead>\n",
       "  <tbody>\n",
       "  </tbody>\n",
       "</table>\n",
       "<p>0 rows × 22 columns</p>\n",
       "</div>"
      ],
      "text/plain": [
       "Empty DataFrame\n",
       "Columns: [id, date, price, bedrooms, bathrooms, sqft_living, sqft_lot, floors, waterfront, view, condition, grade, sqft_above, sqft_basement, yr_built, yr_renovated, zipcode, lat, long, sqft_living15, sqft_lot15, sqf_diff]\n",
       "Index: []\n",
       "\n",
       "[0 rows x 22 columns]"
      ]
     },
     "execution_count": 17,
     "metadata": {},
     "output_type": "execute_result"
    }
   ],
   "source": [
    "# This line is just to ensure that our code above has worked correctly and no '?' remains on our data\n",
    "df_clean.loc[df_clean['sqft_basement'] == '?']"
   ]
  },
  {
   "cell_type": "code",
   "execution_count": 13,
   "metadata": {},
   "outputs": [
    {
     "data": {
      "text/html": [
       "<div>\n",
       "<style scoped>\n",
       "    .dataframe tbody tr th:only-of-type {\n",
       "        vertical-align: middle;\n",
       "    }\n",
       "\n",
       "    .dataframe tbody tr th {\n",
       "        vertical-align: top;\n",
       "    }\n",
       "\n",
       "    .dataframe thead th {\n",
       "        text-align: right;\n",
       "    }\n",
       "</style>\n",
       "<table border=\"1\" class=\"dataframe\">\n",
       "  <thead>\n",
       "    <tr style=\"text-align: right;\">\n",
       "      <th></th>\n",
       "      <th>id</th>\n",
       "      <th>price</th>\n",
       "      <th>bedrooms</th>\n",
       "      <th>bathrooms</th>\n",
       "      <th>sqft_living</th>\n",
       "      <th>sqft_lot</th>\n",
       "      <th>floors</th>\n",
       "      <th>waterfront</th>\n",
       "      <th>view</th>\n",
       "      <th>condition</th>\n",
       "      <th>grade</th>\n",
       "      <th>sqft_above</th>\n",
       "      <th>yr_built</th>\n",
       "      <th>yr_renovated</th>\n",
       "      <th>zipcode</th>\n",
       "      <th>lat</th>\n",
       "      <th>long</th>\n",
       "      <th>sqft_living15</th>\n",
       "      <th>sqft_lot15</th>\n",
       "    </tr>\n",
       "  </thead>\n",
       "  <tbody>\n",
       "    <tr>\n",
       "      <th>id</th>\n",
       "      <td>1.000000</td>\n",
       "      <td>-0.016772</td>\n",
       "      <td>0.001150</td>\n",
       "      <td>0.005162</td>\n",
       "      <td>-0.012241</td>\n",
       "      <td>-0.131911</td>\n",
       "      <td>0.018608</td>\n",
       "      <td>-0.004176</td>\n",
       "      <td>0.011592</td>\n",
       "      <td>-0.023803</td>\n",
       "      <td>0.008188</td>\n",
       "      <td>-0.010799</td>\n",
       "      <td>0.021617</td>\n",
       "      <td>-0.012010</td>\n",
       "      <td>-0.008211</td>\n",
       "      <td>-0.001798</td>\n",
       "      <td>0.020672</td>\n",
       "      <td>-0.002701</td>\n",
       "      <td>-0.138557</td>\n",
       "    </tr>\n",
       "    <tr>\n",
       "      <th>price</th>\n",
       "      <td>-0.016772</td>\n",
       "      <td>1.000000</td>\n",
       "      <td>0.308787</td>\n",
       "      <td>0.525906</td>\n",
       "      <td>0.701917</td>\n",
       "      <td>0.089876</td>\n",
       "      <td>0.256804</td>\n",
       "      <td>0.276295</td>\n",
       "      <td>0.395734</td>\n",
       "      <td>0.036056</td>\n",
       "      <td>0.667951</td>\n",
       "      <td>0.605368</td>\n",
       "      <td>0.053953</td>\n",
       "      <td>0.129599</td>\n",
       "      <td>-0.053402</td>\n",
       "      <td>0.306692</td>\n",
       "      <td>0.022036</td>\n",
       "      <td>0.585241</td>\n",
       "      <td>0.082845</td>\n",
       "    </tr>\n",
       "    <tr>\n",
       "      <th>bedrooms</th>\n",
       "      <td>0.001150</td>\n",
       "      <td>0.308787</td>\n",
       "      <td>1.000000</td>\n",
       "      <td>0.514508</td>\n",
       "      <td>0.578212</td>\n",
       "      <td>0.032471</td>\n",
       "      <td>0.177944</td>\n",
       "      <td>-0.002386</td>\n",
       "      <td>0.078523</td>\n",
       "      <td>0.026496</td>\n",
       "      <td>0.356563</td>\n",
       "      <td>0.479386</td>\n",
       "      <td>0.155670</td>\n",
       "      <td>0.018495</td>\n",
       "      <td>-0.154092</td>\n",
       "      <td>-0.009951</td>\n",
       "      <td>0.132054</td>\n",
       "      <td>0.393406</td>\n",
       "      <td>0.030690</td>\n",
       "    </tr>\n",
       "    <tr>\n",
       "      <th>bathrooms</th>\n",
       "      <td>0.005162</td>\n",
       "      <td>0.525906</td>\n",
       "      <td>0.514508</td>\n",
       "      <td>1.000000</td>\n",
       "      <td>0.755758</td>\n",
       "      <td>0.088373</td>\n",
       "      <td>0.502582</td>\n",
       "      <td>0.067282</td>\n",
       "      <td>0.186451</td>\n",
       "      <td>-0.126479</td>\n",
       "      <td>0.665838</td>\n",
       "      <td>0.686668</td>\n",
       "      <td>0.507173</td>\n",
       "      <td>0.051050</td>\n",
       "      <td>-0.204786</td>\n",
       "      <td>0.024280</td>\n",
       "      <td>0.224903</td>\n",
       "      <td>0.569884</td>\n",
       "      <td>0.088303</td>\n",
       "    </tr>\n",
       "    <tr>\n",
       "      <th>sqft_living</th>\n",
       "      <td>-0.012241</td>\n",
       "      <td>0.701917</td>\n",
       "      <td>0.578212</td>\n",
       "      <td>0.755758</td>\n",
       "      <td>1.000000</td>\n",
       "      <td>0.173453</td>\n",
       "      <td>0.353953</td>\n",
       "      <td>0.110230</td>\n",
       "      <td>0.282532</td>\n",
       "      <td>-0.059445</td>\n",
       "      <td>0.762779</td>\n",
       "      <td>0.876448</td>\n",
       "      <td>0.318152</td>\n",
       "      <td>0.055660</td>\n",
       "      <td>-0.199802</td>\n",
       "      <td>0.052155</td>\n",
       "      <td>0.241214</td>\n",
       "      <td>0.756402</td>\n",
       "      <td>0.184342</td>\n",
       "    </tr>\n",
       "    <tr>\n",
       "      <th>sqft_lot</th>\n",
       "      <td>-0.131911</td>\n",
       "      <td>0.089876</td>\n",
       "      <td>0.032471</td>\n",
       "      <td>0.088373</td>\n",
       "      <td>0.173453</td>\n",
       "      <td>1.000000</td>\n",
       "      <td>-0.004814</td>\n",
       "      <td>0.023143</td>\n",
       "      <td>0.075298</td>\n",
       "      <td>-0.008830</td>\n",
       "      <td>0.114731</td>\n",
       "      <td>0.184139</td>\n",
       "      <td>0.052946</td>\n",
       "      <td>0.004513</td>\n",
       "      <td>-0.129586</td>\n",
       "      <td>-0.085514</td>\n",
       "      <td>0.230227</td>\n",
       "      <td>0.144763</td>\n",
       "      <td>0.718204</td>\n",
       "    </tr>\n",
       "    <tr>\n",
       "      <th>floors</th>\n",
       "      <td>0.018608</td>\n",
       "      <td>0.256804</td>\n",
       "      <td>0.177944</td>\n",
       "      <td>0.502582</td>\n",
       "      <td>0.353953</td>\n",
       "      <td>-0.004814</td>\n",
       "      <td>1.000000</td>\n",
       "      <td>0.021883</td>\n",
       "      <td>0.028436</td>\n",
       "      <td>-0.264075</td>\n",
       "      <td>0.458794</td>\n",
       "      <td>0.523989</td>\n",
       "      <td>0.489193</td>\n",
       "      <td>0.003535</td>\n",
       "      <td>-0.059541</td>\n",
       "      <td>0.049239</td>\n",
       "      <td>0.125943</td>\n",
       "      <td>0.280102</td>\n",
       "      <td>-0.010722</td>\n",
       "    </tr>\n",
       "    <tr>\n",
       "      <th>waterfront</th>\n",
       "      <td>-0.004176</td>\n",
       "      <td>0.276295</td>\n",
       "      <td>-0.002386</td>\n",
       "      <td>0.067282</td>\n",
       "      <td>0.110230</td>\n",
       "      <td>0.023143</td>\n",
       "      <td>0.021883</td>\n",
       "      <td>1.000000</td>\n",
       "      <td>0.406654</td>\n",
       "      <td>0.017642</td>\n",
       "      <td>0.087383</td>\n",
       "      <td>0.075463</td>\n",
       "      <td>-0.026079</td>\n",
       "      <td>0.087244</td>\n",
       "      <td>0.031057</td>\n",
       "      <td>-0.012772</td>\n",
       "      <td>-0.039864</td>\n",
       "      <td>0.088860</td>\n",
       "      <td>0.032002</td>\n",
       "    </tr>\n",
       "    <tr>\n",
       "      <th>view</th>\n",
       "      <td>0.011592</td>\n",
       "      <td>0.395734</td>\n",
       "      <td>0.078523</td>\n",
       "      <td>0.186451</td>\n",
       "      <td>0.282532</td>\n",
       "      <td>0.075298</td>\n",
       "      <td>0.028436</td>\n",
       "      <td>0.406654</td>\n",
       "      <td>1.000000</td>\n",
       "      <td>0.045735</td>\n",
       "      <td>0.249727</td>\n",
       "      <td>0.166299</td>\n",
       "      <td>-0.054564</td>\n",
       "      <td>0.100964</td>\n",
       "      <td>0.085277</td>\n",
       "      <td>0.006141</td>\n",
       "      <td>-0.077894</td>\n",
       "      <td>0.279561</td>\n",
       "      <td>0.073332</td>\n",
       "    </tr>\n",
       "    <tr>\n",
       "      <th>condition</th>\n",
       "      <td>-0.023803</td>\n",
       "      <td>0.036056</td>\n",
       "      <td>0.026496</td>\n",
       "      <td>-0.126479</td>\n",
       "      <td>-0.059445</td>\n",
       "      <td>-0.008830</td>\n",
       "      <td>-0.264075</td>\n",
       "      <td>0.017642</td>\n",
       "      <td>0.045735</td>\n",
       "      <td>1.000000</td>\n",
       "      <td>-0.146896</td>\n",
       "      <td>-0.158904</td>\n",
       "      <td>-0.361592</td>\n",
       "      <td>-0.061858</td>\n",
       "      <td>0.002888</td>\n",
       "      <td>-0.015102</td>\n",
       "      <td>-0.105877</td>\n",
       "      <td>-0.093072</td>\n",
       "      <td>-0.003126</td>\n",
       "    </tr>\n",
       "    <tr>\n",
       "      <th>grade</th>\n",
       "      <td>0.008188</td>\n",
       "      <td>0.667951</td>\n",
       "      <td>0.356563</td>\n",
       "      <td>0.665838</td>\n",
       "      <td>0.762779</td>\n",
       "      <td>0.114731</td>\n",
       "      <td>0.458794</td>\n",
       "      <td>0.087383</td>\n",
       "      <td>0.249727</td>\n",
       "      <td>-0.146896</td>\n",
       "      <td>1.000000</td>\n",
       "      <td>0.756073</td>\n",
       "      <td>0.447865</td>\n",
       "      <td>0.016669</td>\n",
       "      <td>-0.185771</td>\n",
       "      <td>0.113575</td>\n",
       "      <td>0.200341</td>\n",
       "      <td>0.713867</td>\n",
       "      <td>0.120981</td>\n",
       "    </tr>\n",
       "    <tr>\n",
       "      <th>sqft_above</th>\n",
       "      <td>-0.010799</td>\n",
       "      <td>0.605368</td>\n",
       "      <td>0.479386</td>\n",
       "      <td>0.686668</td>\n",
       "      <td>0.876448</td>\n",
       "      <td>0.184139</td>\n",
       "      <td>0.523989</td>\n",
       "      <td>0.075463</td>\n",
       "      <td>0.166299</td>\n",
       "      <td>-0.158904</td>\n",
       "      <td>0.756073</td>\n",
       "      <td>1.000000</td>\n",
       "      <td>0.424037</td>\n",
       "      <td>0.022137</td>\n",
       "      <td>-0.261570</td>\n",
       "      <td>-0.001199</td>\n",
       "      <td>0.344842</td>\n",
       "      <td>0.731767</td>\n",
       "      <td>0.195077</td>\n",
       "    </tr>\n",
       "    <tr>\n",
       "      <th>yr_built</th>\n",
       "      <td>0.021617</td>\n",
       "      <td>0.053953</td>\n",
       "      <td>0.155670</td>\n",
       "      <td>0.507173</td>\n",
       "      <td>0.318152</td>\n",
       "      <td>0.052946</td>\n",
       "      <td>0.489193</td>\n",
       "      <td>-0.026079</td>\n",
       "      <td>-0.054564</td>\n",
       "      <td>-0.361592</td>\n",
       "      <td>0.447865</td>\n",
       "      <td>0.424037</td>\n",
       "      <td>1.000000</td>\n",
       "      <td>-0.225209</td>\n",
       "      <td>-0.347210</td>\n",
       "      <td>-0.148370</td>\n",
       "      <td>0.409993</td>\n",
       "      <td>0.326377</td>\n",
       "      <td>0.070777</td>\n",
       "    </tr>\n",
       "    <tr>\n",
       "      <th>yr_renovated</th>\n",
       "      <td>-0.012010</td>\n",
       "      <td>0.129599</td>\n",
       "      <td>0.018495</td>\n",
       "      <td>0.051050</td>\n",
       "      <td>0.055660</td>\n",
       "      <td>0.004513</td>\n",
       "      <td>0.003535</td>\n",
       "      <td>0.087244</td>\n",
       "      <td>0.100964</td>\n",
       "      <td>-0.061858</td>\n",
       "      <td>0.016669</td>\n",
       "      <td>0.022137</td>\n",
       "      <td>-0.225209</td>\n",
       "      <td>1.000000</td>\n",
       "      <td>0.069846</td>\n",
       "      <td>0.032145</td>\n",
       "      <td>-0.072156</td>\n",
       "      <td>-0.000247</td>\n",
       "      <td>0.003852</td>\n",
       "    </tr>\n",
       "    <tr>\n",
       "      <th>zipcode</th>\n",
       "      <td>-0.008211</td>\n",
       "      <td>-0.053402</td>\n",
       "      <td>-0.154092</td>\n",
       "      <td>-0.204786</td>\n",
       "      <td>-0.199802</td>\n",
       "      <td>-0.129586</td>\n",
       "      <td>-0.059541</td>\n",
       "      <td>0.031057</td>\n",
       "      <td>0.085277</td>\n",
       "      <td>0.002888</td>\n",
       "      <td>-0.185771</td>\n",
       "      <td>-0.261570</td>\n",
       "      <td>-0.347210</td>\n",
       "      <td>0.069846</td>\n",
       "      <td>1.000000</td>\n",
       "      <td>0.266742</td>\n",
       "      <td>-0.564259</td>\n",
       "      <td>-0.279299</td>\n",
       "      <td>-0.147294</td>\n",
       "    </tr>\n",
       "    <tr>\n",
       "      <th>lat</th>\n",
       "      <td>-0.001798</td>\n",
       "      <td>0.306692</td>\n",
       "      <td>-0.009951</td>\n",
       "      <td>0.024280</td>\n",
       "      <td>0.052155</td>\n",
       "      <td>-0.085514</td>\n",
       "      <td>0.049239</td>\n",
       "      <td>-0.012772</td>\n",
       "      <td>0.006141</td>\n",
       "      <td>-0.015102</td>\n",
       "      <td>0.113575</td>\n",
       "      <td>-0.001199</td>\n",
       "      <td>-0.148370</td>\n",
       "      <td>0.032145</td>\n",
       "      <td>0.266742</td>\n",
       "      <td>1.000000</td>\n",
       "      <td>-0.135371</td>\n",
       "      <td>0.048679</td>\n",
       "      <td>-0.086139</td>\n",
       "    </tr>\n",
       "    <tr>\n",
       "      <th>long</th>\n",
       "      <td>0.020672</td>\n",
       "      <td>0.022036</td>\n",
       "      <td>0.132054</td>\n",
       "      <td>0.224903</td>\n",
       "      <td>0.241214</td>\n",
       "      <td>0.230227</td>\n",
       "      <td>0.125943</td>\n",
       "      <td>-0.039864</td>\n",
       "      <td>-0.077894</td>\n",
       "      <td>-0.105877</td>\n",
       "      <td>0.200341</td>\n",
       "      <td>0.344842</td>\n",
       "      <td>0.409993</td>\n",
       "      <td>-0.072156</td>\n",
       "      <td>-0.564259</td>\n",
       "      <td>-0.135371</td>\n",
       "      <td>1.000000</td>\n",
       "      <td>0.335626</td>\n",
       "      <td>0.255586</td>\n",
       "    </tr>\n",
       "    <tr>\n",
       "      <th>sqft_living15</th>\n",
       "      <td>-0.002701</td>\n",
       "      <td>0.585241</td>\n",
       "      <td>0.393406</td>\n",
       "      <td>0.569884</td>\n",
       "      <td>0.756402</td>\n",
       "      <td>0.144763</td>\n",
       "      <td>0.280102</td>\n",
       "      <td>0.088860</td>\n",
       "      <td>0.279561</td>\n",
       "      <td>-0.093072</td>\n",
       "      <td>0.713867</td>\n",
       "      <td>0.731767</td>\n",
       "      <td>0.326377</td>\n",
       "      <td>-0.000247</td>\n",
       "      <td>-0.279299</td>\n",
       "      <td>0.048679</td>\n",
       "      <td>0.335626</td>\n",
       "      <td>1.000000</td>\n",
       "      <td>0.183515</td>\n",
       "    </tr>\n",
       "    <tr>\n",
       "      <th>sqft_lot15</th>\n",
       "      <td>-0.138557</td>\n",
       "      <td>0.082845</td>\n",
       "      <td>0.030690</td>\n",
       "      <td>0.088303</td>\n",
       "      <td>0.184342</td>\n",
       "      <td>0.718204</td>\n",
       "      <td>-0.010722</td>\n",
       "      <td>0.032002</td>\n",
       "      <td>0.073332</td>\n",
       "      <td>-0.003126</td>\n",
       "      <td>0.120981</td>\n",
       "      <td>0.195077</td>\n",
       "      <td>0.070777</td>\n",
       "      <td>0.003852</td>\n",
       "      <td>-0.147294</td>\n",
       "      <td>-0.086139</td>\n",
       "      <td>0.255586</td>\n",
       "      <td>0.183515</td>\n",
       "      <td>1.000000</td>\n",
       "    </tr>\n",
       "  </tbody>\n",
       "</table>\n",
       "</div>"
      ],
      "text/plain": [
       "                     id     price  bedrooms  bathrooms  sqft_living  sqft_lot  \\\n",
       "id             1.000000 -0.016772  0.001150   0.005162    -0.012241 -0.131911   \n",
       "price         -0.016772  1.000000  0.308787   0.525906     0.701917  0.089876   \n",
       "bedrooms       0.001150  0.308787  1.000000   0.514508     0.578212  0.032471   \n",
       "bathrooms      0.005162  0.525906  0.514508   1.000000     0.755758  0.088373   \n",
       "sqft_living   -0.012241  0.701917  0.578212   0.755758     1.000000  0.173453   \n",
       "sqft_lot      -0.131911  0.089876  0.032471   0.088373     0.173453  1.000000   \n",
       "floors         0.018608  0.256804  0.177944   0.502582     0.353953 -0.004814   \n",
       "waterfront    -0.004176  0.276295 -0.002386   0.067282     0.110230  0.023143   \n",
       "view           0.011592  0.395734  0.078523   0.186451     0.282532  0.075298   \n",
       "condition     -0.023803  0.036056  0.026496  -0.126479    -0.059445 -0.008830   \n",
       "grade          0.008188  0.667951  0.356563   0.665838     0.762779  0.114731   \n",
       "sqft_above    -0.010799  0.605368  0.479386   0.686668     0.876448  0.184139   \n",
       "yr_built       0.021617  0.053953  0.155670   0.507173     0.318152  0.052946   \n",
       "yr_renovated  -0.012010  0.129599  0.018495   0.051050     0.055660  0.004513   \n",
       "zipcode       -0.008211 -0.053402 -0.154092  -0.204786    -0.199802 -0.129586   \n",
       "lat           -0.001798  0.306692 -0.009951   0.024280     0.052155 -0.085514   \n",
       "long           0.020672  0.022036  0.132054   0.224903     0.241214  0.230227   \n",
       "sqft_living15 -0.002701  0.585241  0.393406   0.569884     0.756402  0.144763   \n",
       "sqft_lot15    -0.138557  0.082845  0.030690   0.088303     0.184342  0.718204   \n",
       "\n",
       "                 floors  waterfront      view  condition     grade  \\\n",
       "id             0.018608   -0.004176  0.011592  -0.023803  0.008188   \n",
       "price          0.256804    0.276295  0.395734   0.036056  0.667951   \n",
       "bedrooms       0.177944   -0.002386  0.078523   0.026496  0.356563   \n",
       "bathrooms      0.502582    0.067282  0.186451  -0.126479  0.665838   \n",
       "sqft_living    0.353953    0.110230  0.282532  -0.059445  0.762779   \n",
       "sqft_lot      -0.004814    0.023143  0.075298  -0.008830  0.114731   \n",
       "floors         1.000000    0.021883  0.028436  -0.264075  0.458794   \n",
       "waterfront     0.021883    1.000000  0.406654   0.017642  0.087383   \n",
       "view           0.028436    0.406654  1.000000   0.045735  0.249727   \n",
       "condition     -0.264075    0.017642  0.045735   1.000000 -0.146896   \n",
       "grade          0.458794    0.087383  0.249727  -0.146896  1.000000   \n",
       "sqft_above     0.523989    0.075463  0.166299  -0.158904  0.756073   \n",
       "yr_built       0.489193   -0.026079 -0.054564  -0.361592  0.447865   \n",
       "yr_renovated   0.003535    0.087244  0.100964  -0.061858  0.016669   \n",
       "zipcode       -0.059541    0.031057  0.085277   0.002888 -0.185771   \n",
       "lat            0.049239   -0.012772  0.006141  -0.015102  0.113575   \n",
       "long           0.125943   -0.039864 -0.077894  -0.105877  0.200341   \n",
       "sqft_living15  0.280102    0.088860  0.279561  -0.093072  0.713867   \n",
       "sqft_lot15    -0.010722    0.032002  0.073332  -0.003126  0.120981   \n",
       "\n",
       "               sqft_above  yr_built  yr_renovated   zipcode       lat  \\\n",
       "id              -0.010799  0.021617     -0.012010 -0.008211 -0.001798   \n",
       "price            0.605368  0.053953      0.129599 -0.053402  0.306692   \n",
       "bedrooms         0.479386  0.155670      0.018495 -0.154092 -0.009951   \n",
       "bathrooms        0.686668  0.507173      0.051050 -0.204786  0.024280   \n",
       "sqft_living      0.876448  0.318152      0.055660 -0.199802  0.052155   \n",
       "sqft_lot         0.184139  0.052946      0.004513 -0.129586 -0.085514   \n",
       "floors           0.523989  0.489193      0.003535 -0.059541  0.049239   \n",
       "waterfront       0.075463 -0.026079      0.087244  0.031057 -0.012772   \n",
       "view             0.166299 -0.054564      0.100964  0.085277  0.006141   \n",
       "condition       -0.158904 -0.361592     -0.061858  0.002888 -0.015102   \n",
       "grade            0.756073  0.447865      0.016669 -0.185771  0.113575   \n",
       "sqft_above       1.000000  0.424037      0.022137 -0.261570 -0.001199   \n",
       "yr_built         0.424037  1.000000     -0.225209 -0.347210 -0.148370   \n",
       "yr_renovated     0.022137 -0.225209      1.000000  0.069846  0.032145   \n",
       "zipcode         -0.261570 -0.347210      0.069846  1.000000  0.266742   \n",
       "lat             -0.001199 -0.148370      0.032145  0.266742  1.000000   \n",
       "long             0.344842  0.409993     -0.072156 -0.564259 -0.135371   \n",
       "sqft_living15    0.731767  0.326377     -0.000247 -0.279299  0.048679   \n",
       "sqft_lot15       0.195077  0.070777      0.003852 -0.147294 -0.086139   \n",
       "\n",
       "                   long  sqft_living15  sqft_lot15  \n",
       "id             0.020672      -0.002701   -0.138557  \n",
       "price          0.022036       0.585241    0.082845  \n",
       "bedrooms       0.132054       0.393406    0.030690  \n",
       "bathrooms      0.224903       0.569884    0.088303  \n",
       "sqft_living    0.241214       0.756402    0.184342  \n",
       "sqft_lot       0.230227       0.144763    0.718204  \n",
       "floors         0.125943       0.280102   -0.010722  \n",
       "waterfront    -0.039864       0.088860    0.032002  \n",
       "view          -0.077894       0.279561    0.073332  \n",
       "condition     -0.105877      -0.093072   -0.003126  \n",
       "grade          0.200341       0.713867    0.120981  \n",
       "sqft_above     0.344842       0.731767    0.195077  \n",
       "yr_built       0.409993       0.326377    0.070777  \n",
       "yr_renovated  -0.072156      -0.000247    0.003852  \n",
       "zipcode       -0.564259      -0.279299   -0.147294  \n",
       "lat           -0.135371       0.048679   -0.086139  \n",
       "long           1.000000       0.335626    0.255586  \n",
       "sqft_living15  0.335626       1.000000    0.183515  \n",
       "sqft_lot15     0.255586       0.183515    1.000000  "
      ]
     },
     "execution_count": 13,
     "metadata": {},
     "output_type": "execute_result"
    }
   ],
   "source": [
    "# We check correlation matrix to help identify highly correlated continue variables to help predict our target (price)\n",
    "\n",
    "df.corr()\n",
    "\n"
   ]
  },
  {
   "cell_type": "code",
   "execution_count": 19,
   "metadata": {},
   "outputs": [
    {
     "data": {
      "text/plain": [
       "<matplotlib.axes._subplots.AxesSubplot at 0x1c21abb9e8>"
      ]
     },
     "execution_count": 19,
     "metadata": {},
     "output_type": "execute_result"
    },
    {
     "data": {
      "image/png": "[encoded data removed]",
      "text/plain": [
       "<Figure size 1440x720 with 1 Axes>"
      ]
     },
     "metadata": {
      "needs_background": "light"
     },
     "output_type": "display_data"
    }
   ],
   "source": [
    "df_clean.head()\n",
    "\n",
    "df_clean.plot(x='date', y='price', figsize = (20,10))"
   ]
  },
  {
   "cell_type": "code",
   "execution_count": 84,
   "metadata": {},
   "outputs": [
    {
     "data": {
      "text/plain": [
       "<matplotlib.axes._subplots.AxesSubplot at 0x261dcf2b0b8>"
      ]
     },
     "execution_count": 84,
     "metadata": {},
     "output_type": "execute_result"
    },
    {
     "data": {
      "image/png": "[encoded data removed]",
      "text/plain": [
       "<Figure size 432x288 with 1 Axes>"
      ]
     },
     "metadata": {
      "needs_background": "light"
     },
     "output_type": "display_data"
    }
   ],
   "source": [
    "#We first check our dependent variable distribution by ploting an histogram. As we can see below normality is not met.\n",
    "\n",
    "#sns.heatmap(features.corr(), center=0)\n",
    "sns.distplot(df_clean.price) "
   ]
  },
  {
   "cell_type": "code",
   "execution_count": 98,
   "metadata": {},
   "outputs": [
    {
     "data": {
      "text/plain": [
       "<matplotlib.axes._subplots.AxesSubplot at 0x261dbae32b0>"
      ]
     },
     "execution_count": 98,
     "metadata": {},
     "output_type": "execute_result"
    },
    {
     "data": {
      "image/png": "[encoded data removed]",
      "text/plain": [
       "<Figure size 432x288 with 1 Axes>"
      ]
     },
     "metadata": {
      "needs_background": "light"
     },
     "output_type": "display_data"
    }
   ],
   "source": [
    "# In order to achieve normality we take natural log of our dependent variable (price). \n",
    "# As we can see in the grahp below the distribution is closer to a normal distribution bell shape\n",
    "\n",
    "df_clean['price'] = df_clean['price'].map(lambda x: np.log(x))\n",
    "\n",
    "sns.distplot(df_clean.price)\n",
    "\n"
   ]
  },
  {
   "cell_type": "code",
   "execution_count": 99,
   "metadata": {},
   "outputs": [
    {
     "data": {
      "text/plain": [
       "<matplotlib.axes._subplots.AxesSubplot at 0x261e4ecaa90>"
      ]
     },
     "execution_count": 99,
     "metadata": {},
     "output_type": "execute_result"
    },
    {
     "data": {
      "image/png": "[encoded data removed]",
      "text/plain": [
       "<Figure size 432x288 with 1 Axes>"
      ]
     },
     "metadata": {
      "needs_background": "light"
     },
     "output_type": "display_data"
    }
   ],
   "source": [
    "# Since we are looking for correlated variables to help explain price we check normality for sqft of living space. \n",
    "# Similar to the price, the distribution is highly left skewed \n",
    "\n",
    "sns.distplot(df_clean.sqft_living)"
   ]
  },
  {
   "cell_type": "code",
   "execution_count": 101,
   "metadata": {},
   "outputs": [
    {
     "data": {
      "text/plain": [
       "<matplotlib.axes._subplots.AxesSubplot at 0x261e2e09fd0>"
      ]
     },
     "execution_count": 101,
     "metadata": {},
     "output_type": "execute_result"
    },
    {
     "data": {
      "image/png": "[encoded data removed]",
      "text/plain": [
       "<Figure size 432x288 with 1 Axes>"
      ]
     },
     "metadata": {
      "needs_background": "light"
     },
     "output_type": "display_data"
    }
   ],
   "source": [
    "# As we did previously with our variable price, we take natural log of our predictor variable to reach normality \n",
    "# Now our target avariable and independent variable meet the normality criteria \n",
    "df_clean['sqft_living'] = df_clean['sqft_living'].map(lambda x: np.log(x))\n",
    "\n",
    "sns.distplot(df_clean.sqft_living)"
   ]
  },
  {
   "cell_type": "code",
   "execution_count": 26,
   "metadata": {},
   "outputs": [
    {
     "data": {
      "text/plain": [
       "<matplotlib.axes._subplots.AxesSubplot at 0x1c45ec80f0>"
      ]
     },
     "execution_count": 26,
     "metadata": {},
     "output_type": "execute_result"
    },
    {
     "data": {
      "image/png": "[encoded data removed]",
      "text/plain": [
       "<Figure size 720x360 with 1 Axes>"
      ]
     },
     "metadata": {
      "needs_background": "light"
     },
     "output_type": "display_data"
    }
   ],
   "source": [
    "group_a = df.groupby('zipcode').median()\n",
    "group_a.plot.bar(y='price', figsize=(10,5))"
   ]
  },
  {
   "cell_type": "code",
   "execution_count": 25,
   "metadata": {},
   "outputs": [
    {
     "data": {
      "text/plain": [
       "<matplotlib.axes._subplots.AxesSubplot at 0x1c32891978>"
      ]
     },
     "execution_count": 25,
     "metadata": {},
     "output_type": "execute_result"
    },
    {
     "data": {
      "image/png": "[encoded data removed]",
      "text/plain": [
       "<Figure size 432x288 with 1 Axes>"
      ]
     },
     "metadata": {
      "needs_background": "light"
     },
     "output_type": "display_data"
    }
   ],
   "source": [
    "sns.distplot(df_clean.grade)"
   ]
  },
  {
   "cell_type": "code",
   "execution_count": 28,
   "metadata": {},
   "outputs": [
    {
     "data": {
      "text/plain": [
       "<matplotlib.axes._subplots.AxesSubplot at 0x1c461f65c0>"
      ]
     },
     "execution_count": 28,
     "metadata": {},
     "output_type": "execute_result"
    },
    {
     "data": {
      "image/png": "[encoded data removed]",
      "text/plain": [
       "<Figure size 432x288 with 1 Axes>"
      ]
     },
     "metadata": {
      "needs_background": "light"
     },
     "output_type": "display_data"
    }
   ],
   "source": [
    "df_clean.plot.scatter(x='sqft_living', y='price')"
   ]
  },
  {
   "cell_type": "code",
   "execution_count": 106,
   "metadata": {},
   "outputs": [
    {
     "data": {
      "text/plain": [
       "<matplotlib.axes._subplots.AxesSubplot at 0x261dc814358>"
      ]
     },
     "execution_count": 106,
     "metadata": {},
     "output_type": "execute_result"
    },
    {
     "data": {
      "image/png": "[encoded data removed]",
      "text/plain": [
       "<Figure size 720x360 with 1 Axes>"
      ]
     },
     "metadata": {
      "needs_background": "light"
     },
     "output_type": "display_data"
    }
   ],
   "source": [
    "group1 = df_clean.groupby('grade').mean()\n",
    "\n",
    "group1.plot.bar(y='price', figsize=(10,5))"
   ]
  },
  {
   "cell_type": "markdown",
   "metadata": {},
   "source": [
    "### Model Var Definition"
   ]
  },
  {
   "cell_type": "code",
   "execution_count": 108,
   "metadata": {},
   "outputs": [
    {
     "data": {
      "text/html": [
       "<div>\n",
       "<style scoped>\n",
       "    .dataframe tbody tr th:only-of-type {\n",
       "        vertical-align: middle;\n",
       "    }\n",
       "\n",
       "    .dataframe tbody tr th {\n",
       "        vertical-align: top;\n",
       "    }\n",
       "\n",
       "    .dataframe thead th {\n",
       "        text-align: right;\n",
       "    }\n",
       "</style>\n",
       "<table border=\"1\" class=\"dataframe\">\n",
       "  <thead>\n",
       "    <tr style=\"text-align: right;\">\n",
       "      <th></th>\n",
       "      <th>grade</th>\n",
       "      <th>sqft_living</th>\n",
       "    </tr>\n",
       "  </thead>\n",
       "  <tbody>\n",
       "    <tr>\n",
       "      <th>grade</th>\n",
       "      <td>1.000000</td>\n",
       "      <td>0.735857</td>\n",
       "    </tr>\n",
       "    <tr>\n",
       "      <th>sqft_living</th>\n",
       "      <td>0.735857</td>\n",
       "      <td>1.000000</td>\n",
       "    </tr>\n",
       "  </tbody>\n",
       "</table>\n",
       "</div>"
      ],
      "text/plain": [
       "                grade  sqft_living\n",
       "grade        1.000000     0.735857\n",
       "sqft_living  0.735857     1.000000"
      ]
     },
     "execution_count": 108,
     "metadata": {},
     "output_type": "execute_result"
    }
   ],
   "source": [
    "# Pre-processing\n",
    "\n",
    "y = df_clean['price']\n",
    "\n",
    "X = df_clean.loc[:,['grade', 'sqft_living']]\n",
    "\n",
    "\n",
    "X.head()\n",
    "#X = df_clean.apply(lambda x: np.log(x))\n",
    "\n",
    "X.corr()"
   ]
  },
  {
   "cell_type": "code",
   "execution_count": 109,
   "metadata": {},
   "outputs": [
    {
     "name": "stdout",
     "output_type": "stream",
     "text": [
      "R2 = 0.54\n",
      "const          5.2989\n",
      "grade          0.2080\n",
      "sqft_living    3.0478\n",
      "dtype: float64\n"
     ]
    }
   ],
   "source": [
    "# Setting up the LEARNER\n",
    "X = sm.add_constant(X) #x is sqft_living\n",
    "model_sm = sm.OLS(y,X)\n",
    "\n",
    "# Actually LEARNING\n",
    "results = model_sm.fit()\n",
    "\n",
    "# Evaluating performance\n",
    "r2 = results.rsquared\n",
    "r2 = r2.round(2)\n",
    "print('R2 = {}'.format(r2))\n",
    "\n",
    "# # Understanding the LEARNED model\n",
    "est_b = results.params\n",
    "print(est_b.round(4))"
   ]
  },
  {
   "cell_type": "code",
   "execution_count": 110,
   "metadata": {},
   "outputs": [
    {
     "data": {
      "text/html": [
       "<table class=\"simpletable\">\n",
       "<caption>OLS Regression Results</caption>\n",
       "<tr>\n",
       "  <th>Dep. Variable:</th>          <td>price</td>      <th>  R-squared:         </th> <td>   0.544</td> \n",
       "</tr>\n",
       "<tr>\n",
       "  <th>Model:</th>                   <td>OLS</td>       <th>  Adj. R-squared:    </th> <td>   0.544</td> \n",
       "</tr>\n",
       "<tr>\n",
       "  <th>Method:</th>             <td>Least Squares</td>  <th>  F-statistic:       </th> <td>1.289e+04</td>\n",
       "</tr>\n",
       "<tr>\n",
       "  <th>Date:</th>             <td>Sat, 19 Oct 2019</td> <th>  Prob (F-statistic):</th>  <td>  0.00</td>  \n",
       "</tr>\n",
       "<tr>\n",
       "  <th>Time:</th>                 <td>15:22:23</td>     <th>  Log-Likelihood:    </th> <td> -8307.7</td> \n",
       "</tr>\n",
       "<tr>\n",
       "  <th>No. Observations:</th>      <td> 21596</td>      <th>  AIC:               </th> <td>1.662e+04</td>\n",
       "</tr>\n",
       "<tr>\n",
       "  <th>Df Residuals:</th>          <td> 21593</td>      <th>  BIC:               </th> <td>1.665e+04</td>\n",
       "</tr>\n",
       "<tr>\n",
       "  <th>Df Model:</th>              <td>     2</td>      <th>                     </th>     <td> </td>    \n",
       "</tr>\n",
       "<tr>\n",
       "  <th>Covariance Type:</th>      <td>nonrobust</td>    <th>                     </th>     <td> </td>    \n",
       "</tr>\n",
       "</table>\n",
       "<table class=\"simpletable\">\n",
       "<tr>\n",
       "       <td></td>          <th>coef</th>     <th>std err</th>      <th>t</th>      <th>P>|t|</th>  <th>[0.025</th>    <th>0.975]</th>  \n",
       "</tr>\n",
       "<tr>\n",
       "  <th>const</th>       <td>    5.2989</td> <td>    0.112</td> <td>   47.371</td> <td> 0.000</td> <td>    5.080</td> <td>    5.518</td>\n",
       "</tr>\n",
       "<tr>\n",
       "  <th>grade</th>       <td>    0.2080</td> <td>    0.003</td> <td>   68.290</td> <td> 0.000</td> <td>    0.202</td> <td>    0.214</td>\n",
       "</tr>\n",
       "<tr>\n",
       "  <th>sqft_living</th> <td>    3.0478</td> <td>    0.063</td> <td>   48.147</td> <td> 0.000</td> <td>    2.924</td> <td>    3.172</td>\n",
       "</tr>\n",
       "</table>\n",
       "<table class=\"simpletable\">\n",
       "<tr>\n",
       "  <th>Omnibus:</th>       <td>115.492</td> <th>  Durbin-Watson:     </th> <td>   1.989</td>\n",
       "</tr>\n",
       "<tr>\n",
       "  <th>Prob(Omnibus):</th> <td> 0.000</td>  <th>  Jarque-Bera (JB):  </th> <td> 116.995</td>\n",
       "</tr>\n",
       "<tr>\n",
       "  <th>Skew:</th>          <td> 0.177</td>  <th>  Prob(JB):          </th> <td>3.93e-26</td>\n",
       "</tr>\n",
       "<tr>\n",
       "  <th>Kurtosis:</th>      <td> 2.936</td>  <th>  Cond. No.          </th> <td>    428.</td>\n",
       "</tr>\n",
       "</table><br/><br/>Warnings:<br/>[1] Standard Errors assume that the covariance matrix of the errors is correctly specified."
      ],
      "text/plain": [
       "<class 'statsmodels.iolib.summary.Summary'>\n",
       "\"\"\"\n",
       "                            OLS Regression Results                            \n",
       "==============================================================================\n",
       "Dep. Variable:                  price   R-squared:                       0.544\n",
       "Model:                            OLS   Adj. R-squared:                  0.544\n",
       "Method:                 Least Squares   F-statistic:                 1.289e+04\n",
       "Date:                Sat, 19 Oct 2019   Prob (F-statistic):               0.00\n",
       "Time:                        15:22:23   Log-Likelihood:                -8307.7\n",
       "No. Observations:               21596   AIC:                         1.662e+04\n",
       "Df Residuals:                   21593   BIC:                         1.665e+04\n",
       "Df Model:                           2                                         \n",
       "Covariance Type:            nonrobust                                         \n",
       "===============================================================================\n",
       "                  coef    std err          t      P>|t|      [0.025      0.975]\n",
       "-------------------------------------------------------------------------------\n",
       "const           5.2989      0.112     47.371      0.000       5.080       5.518\n",
       "grade           0.2080      0.003     68.290      0.000       0.202       0.214\n",
       "sqft_living     3.0478      0.063     48.147      0.000       2.924       3.172\n",
       "==============================================================================\n",
       "Omnibus:                      115.492   Durbin-Watson:                   1.989\n",
       "Prob(Omnibus):                  0.000   Jarque-Bera (JB):              116.995\n",
       "Skew:                           0.177   Prob(JB):                     3.93e-26\n",
       "Kurtosis:                       2.936   Cond. No.                         428.\n",
       "==============================================================================\n",
       "\n",
       "Warnings:\n",
       "[1] Standard Errors assume that the covariance matrix of the errors is correctly specified.\n",
       "\"\"\""
      ]
     },
     "execution_count": 110,
     "metadata": {},
     "output_type": "execute_result"
    }
   ],
   "source": [
    "results.summary()"
   ]
  },
  {
   "cell_type": "code",
   "execution_count": 116,
   "metadata": {},
   "outputs": [
    {
     "data": {
      "text/html": [
       "<div>\n",
       "<style scoped>\n",
       "    .dataframe tbody tr th:only-of-type {\n",
       "        vertical-align: middle;\n",
       "    }\n",
       "\n",
       "    .dataframe tbody tr th {\n",
       "        vertical-align: top;\n",
       "    }\n",
       "\n",
       "    .dataframe thead th {\n",
       "        text-align: right;\n",
       "    }\n",
       "</style>\n",
       "<table border=\"1\" class=\"dataframe\">\n",
       "  <thead>\n",
       "    <tr style=\"text-align: right;\">\n",
       "      <th></th>\n",
       "      <th>price</th>\n",
       "      <th>sqft_living</th>\n",
       "      <th>floors</th>\n",
       "      <th>sqft_above</th>\n",
       "      <th>sqft_basement</th>\n",
       "      <th>yr_built</th>\n",
       "      <th>zipcode</th>\n",
       "    </tr>\n",
       "  </thead>\n",
       "  <tbody>\n",
       "    <tr>\n",
       "      <th>16580</th>\n",
       "      <td>14.085538</td>\n",
       "      <td>2.107727</td>\n",
       "      <td>2.0</td>\n",
       "      <td>2440</td>\n",
       "      <td>1310.0</td>\n",
       "      <td>1924</td>\n",
       "      <td>98115</td>\n",
       "    </tr>\n",
       "  </tbody>\n",
       "</table>\n",
       "</div>"
      ],
      "text/plain": [
       "           price  sqft_living  floors  sqft_above sqft_basement  yr_built  \\\n",
       "16580  14.085538     2.107727     2.0        2440        1310.0      1924   \n",
       "\n",
       "       zipcode  \n",
       "16580    98115  "
      ]
     },
     "execution_count": 116,
     "metadata": {},
     "output_type": "execute_result"
    }
   ],
   "source": [
    "plot_df = df_clean.loc[ :, ['price', 'sqft_living', 'floors',\n",
    "                           'sqft_above', 'sqft_basement', \n",
    "                           'yr_built', 'zipcode'] ]\n",
    "\n",
    "plot_df.head(1)"
   ]
  },
  {
   "cell_type": "code",
   "execution_count": 119,
   "metadata": {},
   "outputs": [],
   "source": [
    "#sns.pairplot(plot_df)"
   ]
  },
  {
   "cell_type": "code",
   "execution_count": null,
   "metadata": {},
   "outputs": [],
   "source": [
    "df_clean['sqf_diff'] = df_clean['sqft_lot'] - df_clean['sqft_living']"
   ]
  }
 ],
 "metadata": {
  "kernelspec": {
   "display_name": "Python 3",
   "language": "python",
   "name": "python3"
  },
  "language_info": {
   "codemirror_mode": {
    "name": "ipython",
    "version": 3
   },
   "file_extension": ".py",
   "mimetype": "text/x-python",
   "name": "python",
   "nbconvert_exporter": "python",
   "pygments_lexer": "ipython3",
   "version": "3.7.3"
  }
 },
 "nbformat": 4,
 "nbformat_minor": 4
}
