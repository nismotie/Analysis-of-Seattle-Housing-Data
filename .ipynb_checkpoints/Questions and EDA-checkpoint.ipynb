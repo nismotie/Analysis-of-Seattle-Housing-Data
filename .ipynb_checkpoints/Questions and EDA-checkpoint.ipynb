{
 "cells": [
  {
   "cell_type": "markdown",
   "metadata": {},
   "source": [
    "# Questions and Assumptions"
   ]
  },
  {
   "cell_type": "code",
   "execution_count": 4,
   "metadata": {},
   "outputs": [],
   "source": [
    "import pandas as pd\n",
    "import matplotlib.pyplot as plt\n",
    "%matplotlib inline\n",
    "import seaborn as sns\n",
    "import numpy as np\n",
    "\n",
    "df = pd.read_csv('cleaned_data.csv')"
   ]
  },
  {
   "cell_type": "markdown",
   "metadata": {},
   "source": [
    "We wanted to produce an analysis of the King Country Property Sales Data that would be useful to a number of people throughout the process of valuating a house. We will ask ourselves three different questions about the dataset based on data that homeowners, estate agents, and surveyors might have access to respectively. (As a secondary goal of our analysis, there are a number of guidelines from housing associations as to how various housing metrics affect house prices; we wanted to use these as a baseline and see whether our modelling could beat these coarse guidelines.)\n",
    "\n",
    "Questions:\n",
    "1. What is the relationship between basic size and quantity metrics and the price of a house? \n",
    "    * We imagined a homeowner coming to the estate agent with basic statistics about their house, and the estate agent being able to use our model in order to give them a decent prediction of how these metrics would affect their house price.\n",
    "    * During our analysis we found that, for example the square footage of the property displayed too great a colinearity with the number of bedrooms for the two to be included as features in the same model. We had to look at these metrics individually in order to decide which was the more reliable for creating a model to predict house price. We do this with a pair plot between the size variables. \n",
    "    * We also tried a combination of the two of these features, square foot per bedroom to see if the relationship between the two was any more or less valid a model."
   ]
  },
  {
   "cell_type": "markdown",
   "metadata": {},
   "source": [
    "2. How much money could a "
   ]
  }
 ],
 "metadata": {
  "kernelspec": {
   "display_name": "Python 3",
   "language": "python",
   "name": "python3"
  },
  "language_info": {
   "codemirror_mode": {
    "name": "ipython",
    "version": 3
   },
   "file_extension": ".py",
   "mimetype": "text/x-python",
   "name": "python",
   "nbconvert_exporter": "python",
   "pygments_lexer": "ipython3",
   "version": "3.7.3"
  }
 },
 "nbformat": 4,
 "nbformat_minor": 4
}
